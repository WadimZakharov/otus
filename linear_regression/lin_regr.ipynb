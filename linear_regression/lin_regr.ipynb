{
 "cells": [
  {
   "cell_type": "code",
   "execution_count": 1,
   "metadata": {},
   "outputs": [],
   "source": [
    "import numpy as np\n",
    "import pandas as pd\n",
    "import matplotlib.pyplot as plt"
   ]
  },
  {
   "cell_type": "code",
   "execution_count": 35,
   "metadata": {},
   "outputs": [],
   "source": [
    "class regressor():\n",
    "    def __init__(self, lamda=0):\n",
    "        self.lamda = lamda\n",
    "        \n",
    "    def fit(self, X, y):\n",
    "        ones_matrix = np.fromfunction(lambda x,y: x==y, (X.shape[1], X.shape[1])).astype(int)\n",
    "        self.w = (np.linalg.inv(X.T @ X + self.lamda * ones_matrix) @ X.T) @ y\n",
    "        \n",
    "    def predict(self, X):\n",
    "        return X @ self.w"
   ]
  },
  {
   "cell_type": "code",
   "execution_count": 50,
   "metadata": {},
   "outputs": [],
   "source": [
    "def classifier_error(y_true, y_pred):\n",
    "    y_pred = (y_pred > 0).astype(int)*2 - 1\n",
    "    return sum(y_true != y_pred)/len(y_true)"
   ]
  },
  {
   "cell_type": "code",
   "execution_count": 51,
   "metadata": {},
   "outputs": [],
   "source": [
    "df_train = pd.read_csv(\"in.dta.txt\", sep = '\\s+', names=['x1', 'x2', 'y'])\n",
    "df_test = pd.read_csv(\"out.dta.txt\", sep = '\\s+', names=['x1', 'x2', 'y'])"
   ]
  },
  {
   "cell_type": "code",
   "execution_count": 52,
   "metadata": {},
   "outputs": [
    {
     "data": {
      "text/plain": [
       "<matplotlib.collections.PathCollection at 0x1ef1bde2550>"
      ]
     },
     "execution_count": 52,
     "metadata": {},
     "output_type": "execute_result"
    },
    {
     "data": {
      "image/png": "[encoded data removed]",
      "text/plain": [
       "<Figure size 432x288 with 1 Axes>"
      ]
     },
     "metadata": {},
     "output_type": "display_data"
    }
   ],
   "source": [
    "plt.scatter(df_train[df_train.y==-1]['x1'], df_train[df_train.y==-1]['x2'])\n",
    "plt.scatter(df_train[df_train.y==1]['x1'], df_train[df_train.y==1]['x2'])"
   ]
  },
  {
   "cell_type": "code",
   "execution_count": 53,
   "metadata": {},
   "outputs": [],
   "source": [
    "df_train[\"f1\"] = df_train[\"x1\"]**2\n",
    "df_train[\"f2\"] = df_train[\"x2\"]**2\n",
    "df_train[\"f3\"] = df_train[\"x1\"]*df_train[\"x2\"]\n",
    "df_train[\"f4\"] = np.absolute(df_train[\"x1\"] - df_train[\"x2\"])\n",
    "df_train[\"f4\"] = np.absolute(df_train[\"x1\"] + df_train[\"x2\"])\n",
    "df_train[\"ones\"] = 1\n",
    "\n",
    "df_test[\"f1\"] = df_test[\"x1\"]**2\n",
    "df_test[\"f2\"] = df_test[\"x2\"]**2\n",
    "df_test[\"f3\"] = df_test[\"x1\"]*df_test[\"x2\"]\n",
    "df_test[\"f4\"] = np.absolute(df_test[\"x1\"] - df_test[\"x2\"])\n",
    "df_test[\"f4\"] = np.absolute(df_test[\"x1\"] + df_test[\"x2\"])\n",
    "df_test[\"ones\"] = 1\n",
    "\n",
    "columns = df_train.columns\n",
    "columns = np.array([\"ones\"] + list(columns[columns != \"ones\"]))\n",
    "\n",
    "df_train = df_train[columns]\n",
    "df_test = df_test[columns]\n",
    "\n",
    "y_train = df_train['y'].values\n",
    "X_train = df_train[columns[columns!='y']].values\n",
    "\n",
    "y_test = df_test['y'].values\n",
    "X_test = df_test[columns[columns!='y']].values"
   ]
  },
  {
   "cell_type": "markdown",
   "metadata": {},
   "source": [
    "#### Без регуляризации"
   ]
  },
  {
   "cell_type": "code",
   "execution_count": 54,
   "metadata": {},
   "outputs": [],
   "source": [
    "clf = regressor()\n",
    "clf.fit(X_train, y_train)"
   ]
  },
  {
   "cell_type": "code",
   "execution_count": 55,
   "metadata": {},
   "outputs": [
    {
     "name": "stdout",
     "output_type": "stream",
     "text": [
      "Ошибка на train:  0.08571428571428572\n",
      "Ошибка на test:  0.136\n"
     ]
    }
   ],
   "source": [
    "y_pred = clf.predict(X_train)\n",
    "print(\"Ошибка на train: \",classifier_error(y_train, y_pred))\n",
    "\n",
    "y_pred = clf.predict(X_test)\n",
    "print(\"Ошибка на test: \",classifier_error(y_test, y_pred))"
   ]
  },
  {
   "cell_type": "markdown",
   "metadata": {},
   "source": [
    "#### С регуляризацией"
   ]
  },
  {
   "cell_type": "code",
   "execution_count": 56,
   "metadata": {},
   "outputs": [],
   "source": [
    "clf = regressor(lamda=0.001)\n",
    "clf.fit(X_train, y_train)"
   ]
  },
  {
   "cell_type": "code",
   "execution_count": 57,
   "metadata": {},
   "outputs": [
    {
     "name": "stdout",
     "output_type": "stream",
     "text": [
      "Ошибка на train:  0.08571428571428572\n",
      "Ошибка на test:  0.136\n"
     ]
    }
   ],
   "source": [
    "y_pred = clf.predict(X_train)\n",
    "print(\"Ошибка на train: \",classifier_error(y_train, y_pred))\n",
    "\n",
    "y_pred = clf.predict(X_test)\n",
    "print(\"Ошибка на test: \",classifier_error(y_test, y_pred))"
   ]
  }
 ],
 "metadata": {
  "kernelspec": {
   "display_name": "Python 3",
   "language": "python",
   "name": "python3"
  },
  "language_info": {
   "codemirror_mode": {
    "name": "ipython",
    "version": 3
   },
   "file_extension": ".py",
   "mimetype": "text/x-python",
   "name": "python",
   "nbconvert_exporter": "python",
   "pygments_lexer": "ipython3",
   "version": "3.6.5"
  }
 },
 "nbformat": 4,
 "nbformat_minor": 2
}
