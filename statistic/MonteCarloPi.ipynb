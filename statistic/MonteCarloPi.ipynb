{
 "cells": [
  {
   "cell_type": "markdown",
   "metadata": {},
   "source": [
    "Вычислим число $\\pi$ методом Монте Карло\n",
    "\n",
    "Впишем в квадрат четверть круга и будем засыпать квадрат равномерными случайными величинами.\n",
    "\n",
    "Тогда вероятность случайной величины попасть в четверть круга будет равна отношению площади четверти круга к площади квадрата\n",
    "\n",
    "$P = \\dfrac{S_{круга}}{4S_{квадрата}} = \\dfrac{\\pi r^2}{4r^2} = \\dfrac{\\pi}{4}$\n",
    "\n",
    "$\\pi = 4P$"
   ]
  },
  {
   "cell_type": "code",
   "execution_count": 2,
   "metadata": {},
   "outputs": [],
   "source": [
    "import numpy as np"
   ]
  },
  {
   "cell_type": "code",
   "execution_count": 3,
   "metadata": {},
   "outputs": [],
   "source": [
    "def is_circle(R, x,y):\n",
    "    return x**2 + y**2 < R**2"
   ]
  },
  {
   "cell_type": "code",
   "execution_count": 22,
   "metadata": {},
   "outputs": [],
   "source": [
    "def get_p(X, a):\n",
    "    n = 0\n",
    "    for x in X:\n",
    "        if is_circle(a, x[0], x[1]):\n",
    "            n += 1\n",
    "    return n/len(X)"
   ]
  },
  {
   "cell_type": "code",
   "execution_count": 32,
   "metadata": {},
   "outputs": [],
   "source": [
    "a = 1\n",
    "N = 1000000\n",
    "X = np.random.uniform(0,a,2*N).reshape(-1,2)"
   ]
  },
  {
   "cell_type": "code",
   "execution_count": 33,
   "metadata": {},
   "outputs": [],
   "source": [
    "p = get_p(X,a)"
   ]
  },
  {
   "cell_type": "code",
   "execution_count": 34,
   "metadata": {},
   "outputs": [
    {
     "name": "stdout",
     "output_type": "stream",
     "text": [
      "3.142344\n"
     ]
    }
   ],
   "source": [
    "pi = 4*p\n",
    "print(pi)"
   ]
  }
 ],
 "metadata": {
  "kernelspec": {
   "display_name": "Python 3",
   "language": "python",
   "name": "python3"
  },
  "language_info": {
   "codemirror_mode": {
    "name": "ipython",
    "version": 3
   },
   "file_extension": ".py",
   "mimetype": "text/x-python",
   "name": "python",
   "nbconvert_exporter": "python",
   "pygments_lexer": "ipython3",
   "version": "3.7.1"
  }
 },
 "nbformat": 4,
 "nbformat_minor": 2
}
