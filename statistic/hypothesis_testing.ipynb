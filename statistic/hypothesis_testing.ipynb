{
 "cells": [
  {
   "cell_type": "code",
   "execution_count": 1,
   "metadata": {},
   "outputs": [],
   "source": [
    "from scipy.stats import norm\n",
    "import numpy as np"
   ]
  },
  {
   "cell_type": "code",
   "execution_count": 2,
   "metadata": {},
   "outputs": [],
   "source": [
    "def create_stat_T(n11, n12, N1, N2):\n",
    "    \"\"\"\n",
    "    n11 - кол-во положительных исходов у первого\n",
    "    n12 - кол-во положительных исходов у второго \n",
    "    N1 - всего исходов у первого\n",
    "    N2 - всего исходов у второго\n",
    "    \"\"\"\n",
    "    N = N1 + N2 #всего исходов\n",
    "    n112 = n11 + n12 #всего положительныъх исходов\n",
    "    T1 = n11/N1 - n12/N2\n",
    "    T2 = (n112/N)*(1-n112/N)*(1/N1 +1/N2)\n",
    "    T = T1/T2**(1/2)\n",
    "    return T"
   ]
  },
  {
   "cell_type": "code",
   "execution_count": 3,
   "metadata": {},
   "outputs": [],
   "source": [
    "def create_stat_W(X, Y):\n",
    "    \"\"\"\n",
    "    X - исходное распределение\n",
    "    Y предполагаем что сдвинутое\n",
    "    \"\"\"\n",
    "    n = len(Y)\n",
    "    m = len(X)\n",
    "    W = 0\n",
    "    X = np.array([X, [0]*len(X)]).T\n",
    "    Y = np.array([Y, [1]*len(Y)]).T\n",
    "    R = np.vstack((X, Y))\n",
    "    R = R[R[:, 0].argsort()]\n",
    "    for i in range(len(R)):\n",
    "        if R[i,1]==1:\n",
    "            W = W + i+1\n",
    "            \n",
    "    MW = (n/2)*(m+n+1)\n",
    "    DW = (m*n/12)*(m+n+1)\n",
    "    W = (W-MW)/DW**(1/2)\n",
    "    return W"
   ]
  },
  {
   "cell_type": "code",
   "execution_count": 4,
   "metadata": {},
   "outputs": [],
   "source": [
    "def get_quantile(alpha, interval=False):\n",
    "    if interval:\n",
    "        return -norm.ppf(1-alpha/2), norm.ppf(1-alpha/2)\n",
    "    else:\n",
    "        return norm.ppf(1-alpha)"
   ]
  },
  {
   "cell_type": "markdown",
   "metadata": {},
   "source": [
    "### Task 1"
   ]
  },
  {
   "cell_type": "markdown",
   "metadata": {},
   "source": [
    "Перед президентскими выборами  в городах Курске и Владивостоке был проведен социологический опрос. Каждый респондент должен был ответить на вопрос: «За какого кандидата вы будете голосовать на выборах?». В Курске опросили 105 человек, из них 42 ответили, что будут голосовать за кандидата А, во Владивостоке опросили 195 человек, из которых 65 за А. Можно ли считать на уровне значимости 0,05, что уровни поддержки кандидата А в Курске и Владивостоке одинаковы?"
   ]
  },
  {
   "cell_type": "markdown",
   "metadata": {},
   "source": [
    "Основная гипотиза: P1 = P2<br/>\n",
    "Альтернативная: P1 != P2"
   ]
  },
  {
   "cell_type": "code",
   "execution_count": 5,
   "metadata": {},
   "outputs": [],
   "source": [
    "n11, N1 = 42, 105\n",
    "n12, N2 = 65, 195"
   ]
  },
  {
   "cell_type": "code",
   "execution_count": 6,
   "metadata": {},
   "outputs": [],
   "source": [
    "T = create_stat_T(n11, n12, N1, N2)\n",
    "l, r = get_quantile(0.05,True)"
   ]
  },
  {
   "cell_type": "code",
   "execution_count": 7,
   "metadata": {},
   "outputs": [
    {
     "data": {
      "text/plain": [
       "True"
      ]
     },
     "execution_count": 7,
     "metadata": {},
     "output_type": "execute_result"
    }
   ],
   "source": [
    "l <= T <= r"
   ]
  },
  {
   "cell_type": "markdown",
   "metadata": {},
   "source": [
    "Так как статистика попала в дов. область, то можем считать, что уровни поддержки кандидаитов одинаковы."
   ]
  },
  {
   "cell_type": "markdown",
   "metadata": {},
   "source": [
    "### Task 2"
   ]
  },
  {
   "cell_type": "markdown",
   "metadata": {},
   "source": [
    "Для изучения эффективности лекарства против аллергии обследовались две группы людей, предрасположенных к этому заболеванию. Результаты обследования следующие: среди принимавших лекарство заболело 3 человека, не заболело 172 человека; среди не  принимавших заболело 32 человека, не заболело 168. Указывают ли эти результаты на эффективность лекарства?"
   ]
  },
  {
   "cell_type": "markdown",
   "metadata": {},
   "source": [
    "Пусть P1 - вероятность заболеть, а P2 не заболеть<br/>\n",
    "Основная гипотиза: P1 = P2<br/>\n",
    "Альтернативная: P1 $\\neq$ P2"
   ]
  },
  {
   "cell_type": "code",
   "execution_count": 8,
   "metadata": {},
   "outputs": [],
   "source": [
    "n11, N1 = 3, 172\n",
    "n12, N2 = 32, 168"
   ]
  },
  {
   "cell_type": "code",
   "execution_count": 9,
   "metadata": {},
   "outputs": [],
   "source": [
    "T = create_stat_T(n11, n12, N1, N2)\n",
    "q = get_quantile(0.05)"
   ]
  },
  {
   "cell_type": "code",
   "execution_count": 10,
   "metadata": {},
   "outputs": [
    {
     "data": {
      "text/plain": [
       "False"
      ]
     },
     "execution_count": 10,
     "metadata": {},
     "output_type": "execute_result"
    }
   ],
   "source": [
    "q < T"
   ]
  },
  {
   "cell_type": "markdown",
   "metadata": {},
   "source": [
    "Так как статистика попала в критическую область, то можем считать, что вероятность заболеть меншье, если принимать лекарство следовательно лекарство эффективно."
   ]
  },
  {
   "cell_type": "markdown",
   "metadata": {},
   "source": [
    "### Task 3"
   ]
  },
  {
   "cell_type": "markdown",
   "metadata": {},
   "source": [
    "Было проведено обследование 10 горожан и 9 жителей села примерно одного возраста. Получены следующие данные об уровне давления:\n",
    "для горожан: 130, 110, 120, 140, 200, 130, 140, 170, 160, 140;\n",
    "для селян: 120, 190, 130, 160, 150, 120, 110, 120, 200.\n",
    "Свидетельствуют ли эти данные в пользу того, что горожане имеют в среднем более высокое давление чем жители сельской местности?"
   ]
  },
  {
   "cell_type": "markdown",
   "metadata": {},
   "source": [
    "Y - горожане<br/>\n",
    "X - жители села"
   ]
  },
  {
   "cell_type": "markdown",
   "metadata": {},
   "source": [
    "Основная гипотиза:<br/>\n",
    "    $\\theta = 0$\n",
    "    \n",
    "Альтернатива:<br/>\n",
    "$\\theta > 0$"
   ]
  },
  {
   "cell_type": "code",
   "execution_count": 11,
   "metadata": {},
   "outputs": [],
   "source": [
    "Y = [130, 110, 120, 140, 200, 130, 140, 170, 160, 140]\n",
    "X = [120, 190, 130, 160, 150, 120, 110, 120, 200]"
   ]
  },
  {
   "cell_type": "code",
   "execution_count": 12,
   "metadata": {},
   "outputs": [],
   "source": [
    "W = create_stat_W(X,Y)"
   ]
  },
  {
   "cell_type": "code",
   "execution_count": 13,
   "metadata": {},
   "outputs": [],
   "source": [
    "q = get_quantile(0.05)"
   ]
  },
  {
   "cell_type": "code",
   "execution_count": 14,
   "metadata": {},
   "outputs": [
    {
     "data": {
      "text/plain": [
       "True"
      ]
     },
     "execution_count": 14,
     "metadata": {},
     "output_type": "execute_result"
    }
   ],
   "source": [
    "W < q"
   ]
  },
  {
   "cell_type": "markdown",
   "metadata": {},
   "source": [
    "Так как статистика попала в доверительную область, принимаем основную гипотизу: горожане имеют такоеже давление."
   ]
  },
  {
   "cell_type": "markdown",
   "metadata": {},
   "source": [
    "### Task 4"
   ]
  },
  {
   "cell_type": "markdown",
   "metadata": {},
   "source": [
    "Уровень гистамина в мокроте у 7 курильщиков, склонных к аллергии, составил в мг:\n",
    "102,4\t100,0\t67,6\t65,9\t64,7\t39,6\t31,2\n",
    "У 10 курильщиков не склонных к аллергии составил в мг:\n",
    "48,1\t45,5\t41,7\t35,4\t29,1\t18,9\t58,3\t68,8\t71,3\t94,3\n",
    "Можно ли, основываясь на этих данных, считать с надёжностью 0,95 что уровень гистамина у склонных и не склонных к аллергии курильщиков значимо различается?"
   ]
  },
  {
   "cell_type": "markdown",
   "metadata": {},
   "source": [
    "Y - курильщики склонные к аллергии<br/>\n",
    "X - курильщики не склонные к аллергии"
   ]
  },
  {
   "cell_type": "markdown",
   "metadata": {},
   "source": [
    "Основная гипотиза:<br/>\n",
    "    $\\theta = 0$\n",
    "    \n",
    "Альтернатива:<br/>\n",
    "$\\theta \\neq 0$"
   ]
  },
  {
   "cell_type": "code",
   "execution_count": 15,
   "metadata": {},
   "outputs": [],
   "source": [
    "Y = [102.4, 100, 67.6, 65.9, 64.7, 39.6, 31.2]\n",
    "X = [48.1, 45.5, 41.7, 35.4, 29.1, 18.9, 58.3, 68.8, 71.3, 94.3]"
   ]
  },
  {
   "cell_type": "code",
   "execution_count": 16,
   "metadata": {},
   "outputs": [],
   "source": [
    "W = create_stat_W(X,Y)"
   ]
  },
  {
   "cell_type": "code",
   "execution_count": 17,
   "metadata": {},
   "outputs": [],
   "source": [
    "l, r = get_quantile(0.05, True)"
   ]
  },
  {
   "cell_type": "code",
   "execution_count": 18,
   "metadata": {},
   "outputs": [
    {
     "data": {
      "text/plain": [
       "True"
      ]
     },
     "execution_count": 18,
     "metadata": {},
     "output_type": "execute_result"
    }
   ],
   "source": [
    "l< W < r"
   ]
  },
  {
   "cell_type": "markdown",
   "metadata": {},
   "source": [
    "Так как статистика попала в доверительную область, верна основная гипотиза: уровень гистамина значимо не различается."
   ]
  }
 ],
 "metadata": {
  "kernelspec": {
   "display_name": "Python 3",
   "language": "python",
   "name": "python3"
  },
  "language_info": {
   "codemirror_mode": {
    "name": "ipython",
    "version": 3
   },
   "file_extension": ".py",
   "mimetype": "text/x-python",
   "name": "python",
   "nbconvert_exporter": "python",
   "pygments_lexer": "ipython3",
   "version": "3.6.8"
  }
 },
 "nbformat": 4,
 "nbformat_minor": 2
}
